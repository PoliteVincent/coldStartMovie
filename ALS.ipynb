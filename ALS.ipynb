{
 "cells": [
  {
   "cell_type": "markdown",
   "id": "5453d5d2",
   "metadata": {},
   "source": [
    "# Alternating Least Squares (ALS) Matrix Factorization\n",
    "\n",
    "- Load and validate the **subset_ratings.csv** file  \n",
    "- Build an **item × user CSR matrix** (ratings as confidence)  \n",
    "- Fit an **explicit‑feedback ALS** model (latent factors, regularization, 15 iter)  \n",
    "- Map internal indices back to original `movieId` / `userId` for results  \n",
    "- Split data per user (80 % train / 20 % test) and report **RMSE / MAE**  \n",
    "- Output **Top‑N recommendations** for 1 000 sampled users to JSON"
   ]
  },
  {
   "cell_type": "code",
   "execution_count": 15,
   "id": "6d99c12a",
   "metadata": {},
   "outputs": [],
   "source": [
    "import pandas as pd\n",
    "import numpy as np\n",
    "from scipy import sparse\n",
    "from implicit.als import AlternatingLeastSquares\n",
    "from pathlib import Path\n",
    "import json, random\n",
    "from tqdm import tqdm"
   ]
  },
  {
   "cell_type": "code",
   "execution_count": 16,
   "id": "4f03380d",
   "metadata": {},
   "outputs": [
    {
     "name": "stdout",
     "output_type": "stream",
     "text": [
      "Loaded: (2079356, 3)\n"
     ]
    }
   ],
   "source": [
    "ratings = pd.read_csv(\"subset_ratings.csv\", usecols=[\"userId\", \"movieId\", \"rating\"])\n",
    "print(\"Loaded:\", ratings.shape)"
   ]
  },
  {
   "cell_type": "code",
   "execution_count": 17,
   "id": "5c46f244",
   "metadata": {},
   "outputs": [
    {
     "name": "stdout",
     "output_type": "stream",
     "text": [
      "train / test: (1664632, 3) (414724, 3)\n"
     ]
    }
   ],
   "source": [
    "def split_per_user(df, test_frac=0.2, seed=7):\n",
    "    rng = np.random.default_rng(seed)\n",
    "    train, test = [], []\n",
    "    for _, grp in df.groupby(\"userId\"):\n",
    "        if len(grp) < 2:\n",
    "            train.append(grp)\n",
    "        else:\n",
    "            mask = rng.random(len(grp)) < (1 - test_frac)\n",
    "            train.append(grp[mask])\n",
    "            test.append(grp[~mask])\n",
    "    return pd.concat(train), pd.concat(test)\n",
    "\n",
    "train_df, test_df = split_per_user(ratings)\n",
    "print(\"train / test:\", train_df.shape, test_df.shape)"
   ]
  },
  {
   "cell_type": "code",
   "execution_count": null,
   "id": "995eb8c2",
   "metadata": {},
   "outputs": [
    {
     "name": "stdout",
     "output_type": "stream",
     "text": [
      "CSR shape (items×users): (7020, 10000)\n"
     ]
    }
   ],
   "source": [
    "user_ids = train_df.userId.unique()       \n",
    "item_ids_raw = train_df.movieId.unique()  \n",
    "\n",
    "uid_map = {u: i for i, u in enumerate(user_ids)}\n",
    "mid_map = {m: i for i, m in enumerate(item_ids_raw)}\n",
    "\n",
    "idx2mid = np.empty(len(item_ids_raw), dtype=np.int32)\n",
    "for mid, idx in mid_map.items():\n",
    "    idx2mid[idx] = mid\n",
    "\n",
    "\n",
    "def df_to_csr(df):\n",
    "    rows = df.movieId.map(mid_map)\n",
    "    cols = df.userId.map(uid_map)\n",
    "    data = df.rating.astype(np.float32)\n",
    "    shape = (len(item_ids_raw), len(user_ids))\n",
    "    return sparse.csr_matrix((data, (rows, cols)), shape=shape)\n",
    "\n",
    "train_mat = df_to_csr(train_df)\n",
    "print(\"CSR shape (items×users):\", train_mat.shape)"
   ]
  },
  {
   "cell_type": "code",
   "execution_count": 19,
   "id": "04a535aa",
   "metadata": {},
   "outputs": [
    {
     "name": "stderr",
     "output_type": "stream",
     "text": [
      "100%|██████████| 15/15 [00:00<00:00, 17.17it/s]\n"
     ]
    }
   ],
   "source": [
    "als = AlternatingLeastSquares(\n",
    "    factors=64,\n",
    "    regularization=0.1,\n",
    "    iterations=15,\n",
    "    use_native=True,\n",
    "    dtype=np.float32,\n",
    ")\n",
    "als.fit(train_mat)"
   ]
  },
  {
   "cell_type": "code",
   "execution_count": null,
   "id": "411233fa",
   "metadata": {},
   "outputs": [
    {
     "name": "stdout",
     "output_type": "stream",
     "text": [
      "ALS  RMSE = 3.6390   MAE = 3.4835\n"
     ]
    }
   ],
   "source": [
    "uid_test_idx = test_df.userId.map(uid_map)\n",
    "mid_test_idx = test_df.movieId.map(lambda m: mid_map.get(m, -1))\n",
    "mask = mid_test_idx >= 0\n",
    "\n",
    "uid_vec = uid_test_idx.values[mask]\n",
    "mid_vec = mid_test_idx.values[mask]\n",
    "\n",
    "mask2 = uid_vec < als.user_factors.shape[0]\n",
    "uid_vec, mid_vec = uid_vec[mask2], mid_vec[mask2]\n",
    "y_true = test_df.rating.values[mask][mask2]\n",
    "\n",
    "y_pred = np.sum(als.user_factors[uid_vec] * als.item_factors[mid_vec], axis=1)\n",
    "rmse = np.sqrt(np.mean((y_true - y_pred) ** 2))\n",
    "mae  = np.mean(np.abs(y_true - y_pred))\n",
    "print(f\"ALS  RMSE = {rmse:.4f}   MAE = {mae:.4f}\")"
   ]
  },
  {
   "cell_type": "code",
   "execution_count": null,
   "id": "b7204b16",
   "metadata": {},
   "outputs": [
    {
     "name": "stderr",
     "output_type": "stream",
     "text": [
      "Top‑10 recs: 100%|██████████| 1000/1000 [00:00<00:00, 4330.34it/s]"
     ]
    },
    {
     "name": "stdout",
     "output_type": "stream",
     "text": [
      "✅  Saved 693 users → predictions/als_top10_subset.json\n"
     ]
    },
    {
     "name": "stderr",
     "output_type": "stream",
     "text": [
      "\n"
     ]
    }
   ],
   "source": [
    "user_items_full = train_mat.T.tocsr() \n",
    "\n",
    "K, N = 10, 1_000\n",
    "sample_users = random.sample(list(user_ids), min(N, len(user_ids)))\n",
    "\n",
    "preds = {}\n",
    "for u in tqdm(sample_users, desc=f\"Top‑{K} recs\"):\n",
    "    uid = uid_map.get(u)\n",
    "    if uid is None or uid >= als.user_factors.shape[0]:\n",
    "        continue \n",
    "\n",
    "    rec_iids, _ = als.recommend(\n",
    "        userid=uid,\n",
    "        user_items=user_items_full[uid],  # 1‑row CSR\n",
    "        N=K,\n",
    "        filter_already_liked_items=True,\n",
    "    )\n",
    "\n",
    "    valid_rec_iids = [i for i in rec_iids if i < idx2mid.shape[0] and idx2mid[i] != -1]\n",
    "    preds[int(u)]  = [int(idx2mid[i]) for i in valid_rec_iids]\n",
    "\n",
    "Path(\"predictions\").mkdir(exist_ok=True)\n",
    "with open(\"predictions/als_top10_subset.json\", \"w\") as fp:\n",
    "    json.dump(preds, fp)\n",
    "\n",
    "print(f\"✅  Saved {len(preds)} users → predictions/als_top10_subset.json\")"
   ]
  }
 ],
 "metadata": {
  "kernelspec": {
   "display_name": "Python 3",
   "language": "python",
   "name": "python3"
  },
  "language_info": {
   "codemirror_mode": {
    "name": "ipython",
    "version": 3
   },
   "file_extension": ".py",
   "mimetype": "text/x-python",
   "name": "python",
   "nbconvert_exporter": "python",
   "pygments_lexer": "ipython3",
   "version": "3.13.2"
  }
 },
 "nbformat": 4,
 "nbformat_minor": 5
}
