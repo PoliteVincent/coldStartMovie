{
 "cells": [
  {
   "cell_type": "markdown",
   "id": "5453d5d2",
   "metadata": {},
   "source": [
    "# Alternating Least Squares (ALS) Matrix Factorization\n",
    "\n",
    "- Load and validate the **subset_ratings.csv** file  \n",
    "- Build an **item × user CSR matrix** (ratings as confidence)  \n",
    "- Fit an **explicit‑feedback ALS** model (latent factors, regularization, 15 iter)  \n",
    "- Map internal indices back to original `movieId` / `userId` for results  \n",
    "- Split data per user (80 % train / 20 % test) and report **RMSE / MAE**  \n",
    "- Output **Top‑N recommendations** for 1 000 sampled users to JSON"
   ]
  },
  {
   "cell_type": "code",
   "execution_count": 1,
   "id": "6d99c12a",
   "metadata": {},
   "outputs": [],
   "source": [
    "import pandas as pd\n",
    "import numpy as np\n",
    "from scipy import sparse\n",
    "from implicit.als import AlternatingLeastSquares\n",
    "from pathlib import Path\n",
    "import json, random\n",
    "from tqdm import tqdm"
   ]
  },
  {
   "cell_type": "code",
   "execution_count": 2,
   "id": "4f03380d",
   "metadata": {},
   "outputs": [
    {
     "name": "stdout",
     "output_type": "stream",
     "text": [
      "Loaded: (2078625, 3)\n"
     ]
    }
   ],
   "source": [
    "ratings = pd.read_csv(\"subset_ratings.csv\", usecols=[\"userId\", \"movieId\", \"rating\"])\n",
    "print(\"Loaded:\", ratings.shape)"
   ]
  },
  {
   "cell_type": "code",
   "execution_count": 3,
   "id": "5c46f244",
   "metadata": {},
   "outputs": [
    {
     "name": "stdout",
     "output_type": "stream",
     "text": [
      "train / test: (1664041, 3) (414584, 3)\n"
     ]
    }
   ],
   "source": [
    "def split_per_user(df, test_frac=0.2, seed=7):\n",
    "    rng = np.random.default_rng(seed)\n",
    "    train, test = [], []\n",
    "    for _, grp in df.groupby(\"userId\"):\n",
    "        if len(grp) < 2:\n",
    "            train.append(grp)\n",
    "        else:\n",
    "            mask = rng.random(len(grp)) < (1 - test_frac)\n",
    "            train.append(grp[mask])\n",
    "            test.append(grp[~mask])\n",
    "    return pd.concat(train), pd.concat(test)\n",
    "\n",
    "train_df, test_df = split_per_user(ratings)\n",
    "print(\"train / test:\", train_df.shape, test_df.shape)"
   ]
  },
  {
   "cell_type": "code",
   "execution_count": 4,
   "id": "995eb8c2",
   "metadata": {},
   "outputs": [
    {
     "name": "stdout",
     "output_type": "stream",
     "text": [
      "CSR shape (items×users): (7049, 10000)\n"
     ]
    }
   ],
   "source": [
    "user_ids = train_df.userId.unique()       \n",
    "item_ids_raw = train_df.movieId.unique()  \n",
    "\n",
    "uid_map = {u: i for i, u in enumerate(user_ids)}\n",
    "mid_map = {m: i for i, m in enumerate(item_ids_raw)}\n",
    "\n",
    "idx2mid = np.empty(len(item_ids_raw), dtype=np.int32)\n",
    "for mid, idx in mid_map.items():\n",
    "    idx2mid[idx] = mid\n",
    "\n",
    "\n",
    "def df_to_csr(df):\n",
    "    rows = df.movieId.map(mid_map)\n",
    "    cols = df.userId.map(uid_map)\n",
    "    data = df.rating.astype(np.float32)\n",
    "    shape = (len(item_ids_raw), len(user_ids))\n",
    "    return sparse.csr_matrix((data, (rows, cols)), shape=shape)\n",
    "\n",
    "train_mat = df_to_csr(train_df)\n",
    "print(\"CSR shape (items×users):\", train_mat.shape)"
   ]
  },
  {
   "cell_type": "code",
   "execution_count": 5,
   "id": "04a535aa",
   "metadata": {},
   "outputs": [
    {
     "name": "stderr",
     "output_type": "stream",
     "text": [
      "d:\\Python\\Lib\\site-packages\\implicit\\cpu\\als.py:95: RuntimeWarning: OpenBLAS is configured to use 20 threads. It is highly recommended to disable its internal threadpool by setting the environment variable 'OPENBLAS_NUM_THREADS=1' or by calling 'threadpoolctl.threadpool_limits(1, \"blas\")'. Having OpenBLAS use a threadpool can lead to severe performance issues here.\n",
      "  check_blas_config()\n"
     ]
    },
    {
     "data": {
      "application/vnd.jupyter.widget-view+json": {
       "model_id": "41be0b33d3984fe5ba7ef25579e3554b",
       "version_major": 2,
       "version_minor": 0
      },
      "text/plain": [
       "  0%|          | 0/15 [00:00<?, ?it/s]"
      ]
     },
     "metadata": {},
     "output_type": "display_data"
    }
   ],
   "source": [
    "als = AlternatingLeastSquares(\n",
    "    factors=64,\n",
    "    regularization=0.1,\n",
    "    iterations=15,\n",
    "    use_native=True,\n",
    "    dtype=np.float32,\n",
    ")\n",
    "als.fit(train_mat)"
   ]
  },
  {
   "cell_type": "code",
   "execution_count": 6,
   "id": "411233fa",
   "metadata": {},
   "outputs": [
    {
     "name": "stdout",
     "output_type": "stream",
     "text": [
      "ALS  RMSE = 3.6305   MAE = 3.4753\n"
     ]
    }
   ],
   "source": [
    "uid_test_idx = test_df.userId.map(uid_map)\n",
    "mid_test_idx = test_df.movieId.map(lambda m: mid_map.get(m, -1))\n",
    "mask = mid_test_idx >= 0\n",
    "\n",
    "uid_vec = uid_test_idx.values[mask]\n",
    "mid_vec = mid_test_idx.values[mask]\n",
    "\n",
    "mask2 = uid_vec < als.user_factors.shape[0]\n",
    "uid_vec, mid_vec = uid_vec[mask2], mid_vec[mask2]\n",
    "y_true = test_df.rating.values[mask][mask2]\n",
    "\n",
    "y_pred = np.sum(als.user_factors[uid_vec] * als.item_factors[mid_vec], axis=1)\n",
    "rmse = np.sqrt(np.mean((y_true - y_pred) ** 2))\n",
    "mae  = np.mean(np.abs(y_true - y_pred))\n",
    "print(f\"ALS  RMSE = {rmse:.4f}   MAE = {mae:.4f}\")"
   ]
  },
  {
   "cell_type": "code",
   "execution_count": 7,
   "id": "b7204b16",
   "metadata": {},
   "outputs": [
    {
     "name": "stderr",
     "output_type": "stream",
     "text": [
      "Top‑10 recs: 100%|██████████| 1000/1000 [00:00<00:00, 6903.20it/s]"
     ]
    },
    {
     "name": "stdout",
     "output_type": "stream",
     "text": [
      "✅  Saved 690 users → predictions/als_top10_subset.json\n"
     ]
    },
    {
     "name": "stderr",
     "output_type": "stream",
     "text": [
      "\n"
     ]
    }
   ],
   "source": [
    "user_items_full = train_mat.T.tocsr() \n",
    "\n",
    "K, N = 10, 1_000\n",
    "sample_users = random.sample(list(user_ids), min(N, len(user_ids)))\n",
    "\n",
    "preds = {}\n",
    "for u in tqdm(sample_users, desc=f\"Top‑{K} recs\"):\n",
    "    uid = uid_map.get(u)\n",
    "    if uid is None or uid >= als.user_factors.shape[0]:\n",
    "        continue \n",
    "\n",
    "    rec_iids, _ = als.recommend(\n",
    "        userid=uid,\n",
    "        user_items=user_items_full[uid],  # 1‑row CSR\n",
    "        N=K,\n",
    "        filter_already_liked_items=True,\n",
    "    )\n",
    "\n",
    "    valid_rec_iids = [i for i in rec_iids if i < idx2mid.shape[0] and idx2mid[i] != -1]\n",
    "    preds[int(u)]  = [int(idx2mid[i]) for i in valid_rec_iids]\n",
    "\n",
    "Path(\"predictions\").mkdir(exist_ok=True)\n",
    "with open(\"predictions/als_top10_subset.json\", \"w\") as fp:\n",
    "    json.dump(preds, fp)\n",
    "\n",
    "print(f\"✅  Saved {len(preds)} users → predictions/als_top10_subset.json\")"
   ]
  },
  {
   "cell_type": "markdown",
   "id": "a163149d",
   "metadata": {},
   "source": [
    "# Cold start"
   ]
  },
  {
   "cell_type": "code",
   "execution_count": 8,
   "id": "365158ff",
   "metadata": {},
   "outputs": [],
   "source": [
    "scenario = \"STANDARD\"   # or \"USER\" or \"ITEM\"\n"
   ]
  },
  {
   "cell_type": "code",
   "execution_count": 9,
   "id": "0ec39c6c",
   "metadata": {},
   "outputs": [],
   "source": [
    "if scenario==\"STANDARD\":\n",
    "    ratings  = pd.read_csv(\"subset_ratings.csv\", usecols=[\"userId\",\"movieId\",\"rating\"])\n",
    "    train_df, test_df = split_per_user(ratings)\n",
    "elif scenario==\"USER\":\n",
    "    train_df = pd.read_csv(\"evaluation/user_cold_train.csv\", usecols=[\"userId\",\"movieId\",\"rating\"])\n",
    "    test_df  = pd.read_csv(\"evaluation/user_cold_test.csv\",  usecols=[\"userId\",\"movieId\",\"rating\"])\n",
    "else:  # ITEM\n",
    "    train_df = pd.read_csv(\"evaluation/item_cold_train.csv\", usecols=[\"userId\",\"movieId\",\"rating\"])\n",
    "    test_df  = pd.read_csv(\"evaluation/item_cold_test.csv\",  usecols=[\"userId\",\"movieId\",\"rating\"])"
   ]
  },
  {
   "cell_type": "code",
   "execution_count": 10,
   "id": "198b4a20",
   "metadata": {},
   "outputs": [
    {
     "name": "stderr",
     "output_type": "stream",
     "text": [
      "Top-10 ALS recs (STANDARD): 100%|██████████| 10000/10000 [00:01<00:00, 6405.68it/s]"
     ]
    },
    {
     "name": "stdout",
     "output_type": "stream",
     "text": [
      "✅  Saved 7049 users → coldstart_pred\\als_standard_top10.json\n"
     ]
    },
    {
     "name": "stderr",
     "output_type": "stream",
     "text": [
      "\n"
     ]
    }
   ],
   "source": [
    "# ——————————————————————————————————————————————————————————————\n",
    "# Generate Top-K recs for every user in test_df, using internal IDs\n",
    "# ——————————————————————————————————————————————————————————————\n",
    "K = 10\n",
    "\n",
    "# decide test users\n",
    "test_users = test_df['userId'].unique().tolist()\n",
    "\n",
    "# prepare the full user_items CSR (items×users → transpose to users×items)\n",
    "user_items_full = train_mat.T.tocsr()\n",
    "\n",
    "preds = {}\n",
    "for u in tqdm(test_users, desc=f\"Top-{K} ALS recs ({scenario})\"):\n",
    "    # look up internal user index\n",
    "    inner_u = uid_map.get(u, None)\n",
    "    if inner_u is None or inner_u >= als.user_factors.shape[0]:\n",
    "        # unseen in training, skip or assign empty\n",
    "        continue\n",
    "\n",
    "    # now pass the internal index to .recommend\n",
    "    rec_iids, _ = als.recommend(\n",
    "        userid=inner_u,\n",
    "        user_items=user_items_full[inner_u],\n",
    "        N=K,\n",
    "        filter_already_liked_items=True,\n",
    "    )\n",
    "\n",
    "    # map back to raw movieId\n",
    "    raw_recs = [ int(idx2mid[i]) for i in rec_iids if i < len(idx2mid) ]\n",
    "    preds[int(u)] = raw_recs\n",
    "\n",
    "# dump to JSON\n",
    "outfn = Path(\"coldstart_pred\") / f\"als_{scenario.lower()}_top{K}.json\"\n",
    "outfn.parent.mkdir(exist_ok=True)\n",
    "with open(outfn, \"w\") as fp:\n",
    "    json.dump(preds, fp, indent=2)\n",
    "\n",
    "print(f\"✅  Saved {len(preds)} users → {outfn}\")\n"
   ]
  },
  {
   "cell_type": "code",
   "execution_count": null,
   "id": "d8eb0144",
   "metadata": {},
   "outputs": [],
   "source": []
  }
 ],
 "metadata": {
  "kernelspec": {
   "display_name": "Python 3",
   "language": "python",
   "name": "python3"
  },
  "language_info": {
   "codemirror_mode": {
    "name": "ipython",
    "version": 3
   },
   "file_extension": ".py",
   "mimetype": "text/x-python",
   "name": "python",
   "nbconvert_exporter": "python",
   "pygments_lexer": "ipython3",
   "version": "3.11.1"
  }
 },
 "nbformat": 4,
 "nbformat_minor": 5
}
