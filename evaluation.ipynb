{
 "cells": [
  {
   "cell_type": "code",
   "execution_count": 7,
   "id": "3142d83e",
   "metadata": {},
   "outputs": [],
   "source": [
    "import pandas as pd\n",
    "import json\n",
    "from sklearn.metrics import ndcg_score\n",
    "from collections import defaultdict\n",
    "\n",
    "# Load your original test set\n",
    "test_df = pd.read_csv('./subset_ratings.csv')  # or the same one used in both notebooks\n",
    "test_df = test_df[test_df.movieId.notna()]\n",
    "\n",
    "# Load prediction JSONs\n",
    "with open(\"predictions/cbf_top10_subset.json\") as f:\n",
    "    preds_cbf = json.load(f)\n",
    "\n",
    "with open(\"predictions/hybrid_top10_subset.json\") as f:\n",
    "    preds_hybrid = json.load(f)\n"
   ]
  },
  {
   "cell_type": "code",
   "execution_count": 8,
   "id": "a870837b",
   "metadata": {},
   "outputs": [],
   "source": [
    "def precision_recall_at_k(pred_dict, test_df, K=10):\n",
    "    hit_count, rec_count, rel_count = 0, 0, 0\n",
    "\n",
    "    for u, grp in test_df.groupby('userId'):\n",
    "        u = str(u)  # keys in JSON are string-typed\n",
    "        if u not in pred_dict:\n",
    "            continue\n",
    "\n",
    "        true_items = set(grp.movieId)\n",
    "        pred_items = pred_dict[u][:K]\n",
    "\n",
    "        hits = len(true_items.intersection(pred_items))\n",
    "        hit_count += hits\n",
    "        rec_count += K\n",
    "        rel_count += len(true_items)\n",
    "\n",
    "    precision = hit_count / rec_count if rec_count else 0\n",
    "    recall = hit_count / rel_count if rel_count else 0\n",
    "    return precision, recall\n"
   ]
  },
  {
   "cell_type": "code",
   "execution_count": 9,
   "id": "3744e0d9",
   "metadata": {},
   "outputs": [],
   "source": [
    "def ndcg_at_k(pred_dict, test_df, K=10):\n",
    "    scores, truths = [], []\n",
    "    for u, grp in test_df.groupby('userId'):\n",
    "        u = str(u)\n",
    "        if u not in pred_dict:\n",
    "            continue\n",
    "        true_items = set(grp.movieId)\n",
    "        pred_items = pred_dict[u][:K]\n",
    "        rel = [1 if m in true_items else 0 for m in pred_items]\n",
    "        scores.append(rel)\n",
    "        truths.append(sorted(rel, reverse=True))\n",
    "    return ndcg_score(truths, scores)\n"
   ]
  },
  {
   "cell_type": "code",
   "execution_count": 10,
   "id": "cc318d6b",
   "metadata": {},
   "outputs": [
    {
     "name": "stdout",
     "output_type": "stream",
     "text": [
      "Model      | Precision@10 | Recall@10 | NDCG@10\n",
      "---------------------------------------------\n",
      "CBF        | 0.0305       | 0.0015   | 0.1195\n",
      "Hybrid     | 0.1965       | 0.0096   | 0.4390\n"
     ]
    }
   ],
   "source": [
    "K = 10\n",
    "\n",
    "# Precision and Recall\n",
    "prec_cbf, rec_cbf = precision_recall_at_k(preds_cbf, test_df, K)\n",
    "prec_hyb, rec_hyb = precision_recall_at_k(preds_hybrid, test_df, K)\n",
    "\n",
    "# NDCG\n",
    "ndcg_cbf = ndcg_at_k(preds_cbf, test_df, K)\n",
    "ndcg_hyb = ndcg_at_k(preds_hybrid, test_df, K)\n",
    "\n",
    "# Print comparison\n",
    "print(f\"{'Model':<10} | Precision@{K} | Recall@{K} | NDCG@{K}\")\n",
    "print(\"-\" * 45)\n",
    "print(f\"{'CBF':<10} | {prec_cbf:.4f}       | {rec_cbf:.4f}   | {ndcg_cbf:.4f}\")\n",
    "print(f\"{'Hybrid':<10} | {prec_hyb:.4f}       | {rec_hyb:.4f}   | {ndcg_hyb:.4f}\")\n"
   ]
  }
 ],
 "metadata": {
  "kernelspec": {
   "display_name": "Python 3",
   "language": "python",
   "name": "python3"
  },
  "language_info": {
   "codemirror_mode": {
    "name": "ipython",
    "version": 3
   },
   "file_extension": ".py",
   "mimetype": "text/x-python",
   "name": "python",
   "nbconvert_exporter": "python",
   "pygments_lexer": "ipython3",
   "version": "3.11.1"
  }
 },
 "nbformat": 4,
 "nbformat_minor": 5
}
