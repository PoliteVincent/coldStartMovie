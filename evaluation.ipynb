{
 "cells": [
  {
   "cell_type": "code",
   "execution_count": 1,
   "id": "3142d83e",
   "metadata": {},
   "outputs": [],
   "source": [
    "import json\n",
    "import pandas as pd\n",
    "import matplotlib.pyplot as plt\n",
    "from sklearn.metrics import ndcg_score"
   ]
  },
  {
   "cell_type": "code",
   "execution_count": 2,
   "id": "d6bcbae2",
   "metadata": {},
   "outputs": [],
   "source": [
    "TEST_PATH = \"subset_ratings.csv\"\n",
    "test_df   = pd.read_csv(TEST_PATH)\n",
    "test_df   = test_df[test_df.movieId.notna()]"
   ]
  },
  {
   "cell_type": "code",
   "execution_count": 3,
   "id": "a870837b",
   "metadata": {},
   "outputs": [],
   "source": [
    "def precision_recall_at_k(pred_dict, df, k=10):\n",
    "    hit = rec = rel = 0\n",
    "    for uid, grp in df.groupby(\"userId\"):\n",
    "        if uid not in pred_dict:\n",
    "            continue\n",
    "        true_items = set(grp.movieId)\n",
    "        pred_items = pred_dict[uid][:k]\n",
    "        hits       = len(true_items & set(pred_items))\n",
    "        hit += hits;  rec += k;  rel += len(true_items)\n",
    "    return hit / rec if rec else 0, hit / rel if rel else 0"
   ]
  },
  {
   "cell_type": "code",
   "execution_count": 4,
   "id": "3744e0d9",
   "metadata": {},
   "outputs": [],
   "source": [
    "def ndcg_at_k(pred_dict, df, k=10):\n",
    "    y_true, y_score = [], []\n",
    "    for uid, grp in df.groupby(\"userId\"):\n",
    "        if uid not in pred_dict:\n",
    "            continue\n",
    "        true_items = set(grp.movieId)\n",
    "        preds      = (pred_dict[uid] + [-1] * k)[:k]      # pad/truncate\n",
    "        rel        = [1 if m in true_items else 0 for m in preds]\n",
    "        y_score.append(rel)\n",
    "        y_true.append(sorted(rel, reverse=True))\n",
    "    return ndcg_score(y_true, y_score) if y_true else 0.0"
   ]
  },
  {
   "cell_type": "code",
   "execution_count": 5,
   "id": "cc318d6b",
   "metadata": {},
   "outputs": [],
   "source": [
    "MODEL_FILES = {\n",
    "    \"ALS\"          : \"predictions/als_top10_subset.json\",\n",
    "    \"CBF\"          : \"predictions/cbf_top10_subset.json\",\n",
    "    \"KNN\"          : \"predictions/knn_top10_subset.json\",\n",
    "    \"Hybrid\"       : \"predictions/hybrid_top10_subset.json\",\n",
    "    \"HybridUserCF\" : \"predictions/hybrid_userCF_top10_subset.json\",\n",
    "}\n",
    "\n",
    "def load_predictions(path):\n",
    "    \"\"\"Return {userId:int -> [movieId:int, …]} for a json file.\"\"\"\n",
    "    with open(path, encoding=\"utf-8\") as fp:\n",
    "        raw = json.load(fp)\n",
    "\n",
    "    preds = {}\n",
    "    for uid, movie_list in raw.items():\n",
    "        try:\n",
    "            uid_int = int(uid)                        # user-id to int\n",
    "        except ValueError:\n",
    "            continue\n",
    "        # ▼ NEW: coerce every predicted movieId to int as well\n",
    "        preds[uid_int] = [int(m) for m in movie_list if str(m).isdigit()]\n",
    "\n",
    "    return preds"
   ]
  },
  {
   "cell_type": "code",
   "execution_count": 6,
   "id": "481b7664",
   "metadata": {},
   "outputs": [
    {
     "name": "stdout",
     "output_type": "stream",
     "text": [
      "                P@10    R@10  NDCG@10\n",
      "Model                                \n",
      "ALS           0.0028  0.0001   0.0171\n",
      "CBF           0.0275  0.0013   0.1026\n",
      "Hybrid        0.2079  0.0098   0.4567\n",
      "HybridUserCF  0.2518  0.0123   0.5318\n",
      "KNN           0.0000  0.0000   0.0000\n"
     ]
    },
    {
     "data": {
      "image/png": "[encoded data removed]",
      "text/plain": [
       "<Figure size 800x500 with 1 Axes>"
      ]
     },
     "metadata": {},
     "output_type": "display_data"
    }
   ],
   "source": [
    "# --------------------------------------------------------------------\n",
    "K = 10\n",
    "rows = []\n",
    "for model, file in MODEL_FILES.items():\n",
    "    preds = load_predictions(file)\n",
    "    p, r  = precision_recall_at_k(preds, test_df, K)\n",
    "    n     = ndcg_at_k(preds, test_df, K)\n",
    "    rows.append({\"Model\": model,\n",
    "                 f\"P@{K}\": round(p, 4),\n",
    "                 f\"R@{K}\": round(r, 4),\n",
    "                 f\"NDCG@{K}\": round(n, 4)})\n",
    "\n",
    "metrics = (pd.DataFrame(rows)\n",
    "             .set_index(\"Model\")\n",
    "             .sort_index())\n",
    "\n",
    "print(metrics)\n",
    "\n",
    "ax = metrics.plot(kind=\"bar\", figsize=(8, 5))\n",
    "ax.set_title(f\"Recommendation quality (k={K})\")\n",
    "ax.set_ylim(0, 1)\n",
    "ax.set_ylabel(\"Score\")\n",
    "plt.xticks(rotation=0)\n",
    "plt.tight_layout()\n",
    "plt.show()"
   ]
  }
 ],
 "metadata": {
  "kernelspec": {
   "display_name": "3.10.0",
   "language": "python",
   "name": "python3"
  },
  "language_info": {
   "codemirror_mode": {
    "name": "ipython",
    "version": 3
   },
   "file_extension": ".py",
   "mimetype": "text/x-python",
   "name": "python",
   "nbconvert_exporter": "python",
   "pygments_lexer": "ipython3",
   "version": "3.10.0"
  }
 },
 "nbformat": 4,
 "nbformat_minor": 5
}
