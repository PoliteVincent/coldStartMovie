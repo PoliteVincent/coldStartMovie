{
 "cells": [
  {
   "cell_type": "code",
   "execution_count": 1,
   "id": "9498229b",
   "metadata": {},
   "outputs": [],
   "source": [
    "import json\n",
    "from pathlib import Path\n",
    "import random\n",
    "\n",
    "import numpy as np\n",
    "import pandas as pd\n",
    "from sklearn.metrics.pairwise import cosine_similarity\n",
    "from sklearn.model_selection import train_test_split\n",
    "from tqdm import tqdm"
   ]
  },
  {
   "cell_type": "code",
   "execution_count": 2,
   "id": "06ee95fc",
   "metadata": {},
   "outputs": [],
   "source": [
    "movie_tag_matrix = pd.read_csv(\"subset_movie_tag_matrix.csv\", index_col=0)\n",
    "ratings_small    = pd.read_csv(\"subset_ratings.csv\")\n",
    "movies_small     = pd.read_csv(\"subset_movies.csv\")\n"
   ]
  },
  {
   "cell_type": "code",
   "execution_count": 3,
   "id": "2d2bf84f",
   "metadata": {},
   "outputs": [
    {
     "name": "stdout",
     "output_type": "stream",
     "text": [
      "Loaded tag‑matrix shape: (6977, 1128)\n"
     ]
    }
   ],
   "source": [
    "movie_tag_matrix.index = movie_tag_matrix.index.astype(int)\n",
    "print(\"Loaded tag‑matrix shape:\", movie_tag_matrix.shape)"
   ]
  },
  {
   "cell_type": "code",
   "execution_count": 4,
   "id": "e9715b4c",
   "metadata": {},
   "outputs": [],
   "source": [
    "row_norms   = np.linalg.norm(movie_tag_matrix.values, axis=1)\n",
    "movie_norm  = movie_tag_matrix.div(\n",
    "    pd.Series(row_norms, index=movie_tag_matrix.index).replace(0, 1),\n",
    "    axis=0,\n",
    ")\n"
   ]
  },
  {
   "cell_type": "code",
   "execution_count": 5,
   "id": "0c0d9ca8",
   "metadata": {},
   "outputs": [],
   "source": [
    "def split_per_user(df: pd.DataFrame, test_fraction: float = 0.20, seed: int = 7):\n",
    "    \"\"\"Return (train_df, test_df) with an 80‑20 split for each individual user.\"\"\"\n",
    "    train, test = [], []\n",
    "    for _uid, grp in df.groupby(\"userId\"):\n",
    "        if len(grp) == 1:\n",
    "            train.append(grp)\n",
    "            continue\n",
    "        tr, te = train_test_split(grp, test_size=test_fraction, random_state=seed)\n",
    "        train.append(tr)\n",
    "        test.append(te)\n",
    "    return pd.concat(train), pd.concat(test)\n",
    "\n",
    "train_ratings, test_ratings = split_per_user(ratings_small, 0.2)\n",
    "valid_movie_ids = set(movie_norm.index)\n",
    "train_ratings   = train_ratings[train_ratings.movieId.isin(valid_movie_ids)].reset_index(drop=True)\n",
    "test_ratings    = test_ratings [test_ratings .movieId.isin(valid_movie_ids)].reset_index(drop=True)"
   ]
  },
  {
   "cell_type": "code",
   "execution_count": 6,
   "id": "50a81fae",
   "metadata": {},
   "outputs": [],
   "source": [
    "min_rating, max_rating = train_ratings.rating.min(), train_ratings.rating.max()\n",
    "\n",
    "user_profiles = {}\n",
    "for u, grp in train_ratings.groupby(\"userId\"):\n",
    "    feats   = movie_norm.loc[grp.movieId].values\n",
    "    weights = ((grp.rating - min_rating) / (max_rating - min_rating)).values[:, None]\n",
    "    vec     = (weights * feats).sum(axis=0)\n",
    "    if vec.sum() > 0:\n",
    "        vec /= np.linalg.norm(vec)\n",
    "    user_profiles[u] = vec"
   ]
  },
  {
   "cell_type": "code",
   "execution_count": 7,
   "id": "54b29721",
   "metadata": {},
   "outputs": [],
   "source": [
    "pivot     = train_ratings.pivot(index=\"userId\", columns=\"movieId\", values=\"rating\").fillna(0)\n",
    "user_ids  = pivot.index.values               # length = U\n",
    "movie_ids = pivot.columns.values.astype(int) # length = M"
   ]
  },
  {
   "cell_type": "code",
   "execution_count": 8,
   "id": "4407dfff",
   "metadata": {},
   "outputs": [],
   "source": [
    "user_vecs  = pivot.values                    # shape (U, M)\n",
    "sim_users  = cosine_similarity(user_vecs)    # (U, U)\n",
    "abs_sim_u  = np.sum(np.abs(sim_users), axis=1)  # denom per user (length U)"
   ]
  },
  {
   "cell_type": "code",
   "execution_count": 10,
   "id": "78e679d5",
   "metadata": {},
   "outputs": [],
   "source": [
    "movie_norm_arr = movie_norm.loc[movie_ids].values  # align order\n",
    "\n",
    "\n",
    "def recommend_hybrid_fast_uCF(user_id: int, K: int = 10, a: float = 0.7):\n",
    "    \"\"\"Return Top‑K movie recommendations using user‑user CF + CBF blend.\"\"\"\n",
    "    if user_id not in pivot.index:\n",
    "        return pd.DataFrame(columns=[\"title\", \"genres\", \"score\"])\n",
    "\n",
    "    u_idx   = np.where(user_ids == user_id)[0][0]\n",
    "\n",
    "    cf_num  = sim_users[u_idx].dot(user_vecs)\n",
    "    cf      = np.divide(cf_num,\n",
    "                        abs_sim_u[u_idx],\n",
    "                        out=np.zeros_like(cf_num),\n",
    "                        where=abs_sim_u[u_idx] > 0)\n",
    "\n",
    "    p_u     = user_profiles.get(user_id, np.zeros(movie_norm_arr.shape[1]))\n",
    "    cbf     = movie_norm_arr.dot(p_u)                # shape (M,)\n",
    "\n",
    "    hyb     = a * cf + (1.0 - a) * cbf\n",
    "\n",
    "    watched = set(train_ratings.loc[train_ratings.userId == user_id, \"movieId\"])\n",
    "    mask    = np.isin(movie_ids, list(watched), invert=True)\n",
    "    hyb    *= mask\n",
    "\n",
    "    if K < len(hyb):\n",
    "        idx      = np.argpartition(-hyb, K)[:K]\n",
    "    else:\n",
    "        idx      = np.arange(len(hyb))\n",
    "    order        = np.argsort(-hyb[idx])\n",
    "    top_ids      = movie_ids[idx][order]\n",
    "    top_scores   = hyb[idx][order]\n",
    "\n",
    "    df = movies_small.set_index(\"movieId\").loc[top_ids, [\"title\", \"genres\"]].copy()\n",
    "    df[\"score\"] = top_scores\n",
    "    return df\n"
   ]
  },
  {
   "cell_type": "code",
   "execution_count": 11,
   "id": "1e125379",
   "metadata": {},
   "outputs": [
    {
     "name": "stderr",
     "output_type": "stream",
     "text": [
      "Generating Top-10 Hybrid Recs (userCF): 100%|██████████| 1000/1000 [00:17<00:00, 57.93it/s]\n"
     ]
    },
    {
     "name": "stdout",
     "output_type": "stream",
     "text": [
      "Generated recommendations for 1000 users out of 1000 sampled.\n"
     ]
    }
   ],
   "source": [
    "K      = 10\n",
    "N      = 1000\n",
    "valid_users = list(set(pivot.index) | set(user_profiles.keys()))\n",
    "subset_user_ids = random.sample(valid_users, min(N, len(valid_users)))\n",
    "\n",
    "preds = {}\n",
    "for u in tqdm(subset_user_ids, desc=f\"Generating Top-{K} Hybrid Recs (userCF)\"):\n",
    "    recs_df = recommend_hybrid_fast_uCF(u, K=K)\n",
    "    if not recs_df.empty:\n",
    "        preds[int(u)] = recs_df.index.tolist()\n",
    "\n",
    "Path(\"predictions\").mkdir(exist_ok=True)\n",
    "with open(\"predictions/hybrid_userCF_top10_subset.json\", \"w\") as f:\n",
    "    json.dump(preds, f)\n",
    "\n",
    "print(f\"Generated recommendations for {len(preds)} users out of {len(subset_user_ids)} sampled.\")\n"
   ]
  }
 ],
 "metadata": {
  "kernelspec": {
   "display_name": "3.10.0",
   "language": "python",
   "name": "python3"
  },
  "language_info": {
   "codemirror_mode": {
    "name": "ipython",
    "version": 3
   },
   "file_extension": ".py",
   "mimetype": "text/x-python",
   "name": "python",
   "nbconvert_exporter": "python",
   "pygments_lexer": "ipython3",
   "version": "3.10.0"
  }
 },
 "nbformat": 4,
 "nbformat_minor": 5
}
