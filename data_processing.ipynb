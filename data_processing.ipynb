{
 "cells": [
  {
   "cell_type": "code",
   "execution_count": 23,
   "metadata": {},
   "outputs": [
    {
     "data": {
      "text/plain": [
       "138493"
      ]
     },
     "execution_count": 23,
     "metadata": {},
     "output_type": "execute_result"
    }
   ],
   "source": [
    "import pandas as pd\n",
    "import numpy as np\n",
    "\n",
    "# Load the dataset\n",
    "ratings = pd.read_csv('./ml-20m/ratings.csv')\n",
    "movies = pd.read_csv('./ml-20m/movies.csv')\n",
    "links = pd.read_csv('./ml-20m/links.csv')\n",
    "ratings.head()\n",
    "ratings['userId'].nunique()\n"
   ]
  },
  {
   "cell_type": "code",
   "execution_count": 24,
   "metadata": {},
   "outputs": [
    {
     "name": "stdout",
     "output_type": "stream",
     "text": [
      "Number of active users: 85307\n"
     ]
    },
    {
     "data": {
      "text/plain": [
       "20000263"
      ]
     },
     "execution_count": 24,
     "metadata": {},
     "output_type": "execute_result"
    }
   ],
   "source": [
    "# Filter to active users who has at least 50 ratings\n",
    "user_rating_counts = ratings['userId'].value_counts()\n",
    "active_users = user_rating_counts[user_rating_counts >= 50].index\n",
    "print(f\"Number of active users: {len(active_users)}\")\n",
    "len(ratings)\n"
   ]
  },
  {
   "cell_type": "code",
   "execution_count": 25,
   "metadata": {},
   "outputs": [
    {
     "data": {
      "text/plain": [
       "2130396"
      ]
     },
     "execution_count": 25,
     "metadata": {},
     "output_type": "execute_result"
    }
   ],
   "source": [
    "# Select a subset of 10k users\n",
    "selected_users = active_users.to_series().sample(10000, random_state=7)\n",
    "ratings_small = ratings[ratings['userId'].isin(selected_users)]\n",
    "len(ratings_small)\n"
   ]
  },
  {
   "cell_type": "code",
   "execution_count": 26,
   "metadata": {},
   "outputs": [
    {
     "data": {
      "text/plain": [
       "{'num_users': 10000, 'num_movies': 17614, 'num_ratings': 2130396}"
      ]
     },
     "execution_count": 26,
     "metadata": {},
     "output_type": "execute_result"
    }
   ],
   "source": [
    "# Clean movie and link\n",
    "movies_small = movies[movies['movieId'].isin(ratings_small['movieId'])]\n",
    "links_small = links[links['movieId'].isin(ratings_small['movieId'])]\n",
    "summary = {\n",
    "    \"num_users\": ratings_small['userId'].nunique(),\n",
    "    \"num_movies\": ratings_small['movieId'].nunique(),\n",
    "    \"num_ratings\": len(ratings_small)\n",
    "}\n",
    "summary\n"
   ]
  },
  {
   "cell_type": "code",
   "execution_count": 27,
   "metadata": {},
   "outputs": [],
   "source": [
    "# Export data\n",
    "ratings_small.to_csv('./subset_ratings.csv', index=False)\n",
    "movies_small.to_csv('./subset_movies.csv', index=False)\n",
    "links_small.to_csv('./subset_links.csv', index=False)"
   ]
  }
 ],
 "metadata": {
  "language_info": {
   "name": "python"
  }
 },
 "nbformat": 4,
 "nbformat_minor": 2
}
