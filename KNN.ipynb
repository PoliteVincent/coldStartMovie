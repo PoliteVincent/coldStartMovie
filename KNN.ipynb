{
 "cells": [
  {
   "cell_type": "markdown",
   "id": "90ffe8c0",
   "metadata": {},
   "source": [
    "# K‑Nearest Neighbors (KNN) Collaborative Filtering\n",
    "\n",
    "- Load and validate the **subset_ratings.csv** file  \n",
    "- Pivot into a **user × movie** ratings matrix (fill NA with 0)  \n",
    "- Compute **item–item cosine similarity** and keep the top‑k neighbors  \n",
    "- Predict unknown ratings by a **mean‑centered, similarity‑weighted average**  \n",
    "- Split data per user (80 % train / 20 % test) and report **RMSE / MAE**  \n",
    "- Output **Top‑N recommendations** for 1 000 sampled users to JSON  "
   ]
  },
  {
   "cell_type": "code",
   "execution_count": 1,
   "id": "167a73e3",
   "metadata": {},
   "outputs": [],
   "source": [
    "import pandas as pd\n",
    "from surprise import Dataset, Reader, KNNWithMeans, accuracy\n",
    "from surprise.model_selection import train_test_split\n",
    "import numpy as np\n",
    "import random, json\n",
    "from tqdm import tqdm\n",
    "from pathlib import Path"
   ]
  },
  {
   "cell_type": "code",
   "execution_count": 2,
   "id": "7695882c",
   "metadata": {},
   "outputs": [
    {
     "name": "stdout",
     "output_type": "stream",
     "text": [
      "Loaded subset: (2079356, 3)\n"
     ]
    }
   ],
   "source": [
    "ratings = pd.read_csv(\"subset_ratings.csv\", usecols=[\"userId\", \"movieId\", \"rating\"])\n",
    "print(\"Loaded subset:\", ratings.shape)"
   ]
  },
  {
   "cell_type": "code",
   "execution_count": 3,
   "id": "009352a3",
   "metadata": {},
   "outputs": [
    {
     "name": "stdout",
     "output_type": "stream",
     "text": [
      "train / test ratings: 1663484 415872\n"
     ]
    }
   ],
   "source": [
    "reader = Reader(rating_scale=(ratings.rating.min(), ratings.rating.max()))\n",
    "full_data = Dataset.load_from_df(ratings, reader)\n",
    "trainset, testset = train_test_split(full_data, test_size=0.2, random_state=42)\n",
    "print(\"train / test ratings:\", trainset.n_ratings, len(testset))"
   ]
  },
  {
   "cell_type": "code",
   "execution_count": 4,
   "id": "28685bd6",
   "metadata": {},
   "outputs": [
    {
     "data": {
      "text/plain": [
       "<surprise.prediction_algorithms.knns.KNNWithMeans at 0x1aaffebb460>"
      ]
     },
     "execution_count": 4,
     "metadata": {},
     "output_type": "execute_result"
    }
   ],
   "source": [
    "knn_algo = KNNWithMeans(\n",
    "    k=40,\n",
    "    sim_options={\"name\": \"cosine\", \"user_based\": False},\n",
    "    verbose=False,\n",
    ")\n",
    "knn_algo.fit(trainset)"
   ]
  },
  {
   "cell_type": "code",
   "execution_count": 5,
   "id": "b0f9ecef",
   "metadata": {},
   "outputs": [
    {
     "name": "stdout",
     "output_type": "stream",
     "text": [
      "KNN  RMSE = 0.8402   MAE = 0.6412\n"
     ]
    }
   ],
   "source": [
    "preds = knn_algo.test(testset)\n",
    "rmse = accuracy.rmse(preds, verbose=False)\n",
    "mae  = accuracy.mae(preds,  verbose=False)\n",
    "print(f\"KNN  RMSE = {rmse:.4f}   MAE = {mae:.4f}\")\n",
    "\n",
    "with open(\"knn_metrics.txt\", \"w\") as f:\n",
    "    f.write(f\"RMSE={rmse:.4f}\\nMAE={mae:.4f}\\n\")"
   ]
  },
  {
   "cell_type": "code",
   "execution_count": 6,
   "id": "bd77f449",
   "metadata": {},
   "outputs": [],
   "source": [
    "trainset_user_inner = trainset._raw2inner_id_users\n",
    "trainset_item_inner = trainset._raw2inner_id_items\n",
    "trainset_item_outer = {inner: int(raw) for raw, inner in trainset_item_inner.items()}\n",
    "\n",
    "all_user_ids = list(trainset_user_inner.keys())"
   ]
  },
  {
   "cell_type": "code",
   "execution_count": 7,
   "id": "ff4581c5",
   "metadata": {},
   "outputs": [
    {
     "name": "stderr",
     "output_type": "stream",
     "text": [
      "Top‑10 recs: 100%|██████████| 1000/1000 [00:19<00:00, 52.22it/s]"
     ]
    },
    {
     "name": "stdout",
     "output_type": "stream",
     "text": [
      "✅  Saved 1000 users → predictions/knn_top10_subset.json\n"
     ]
    },
    {
     "name": "stderr",
     "output_type": "stream",
     "text": [
      "\n"
     ]
    }
   ],
   "source": [
    "K, N = 10, 1_000\n",
    "sample_users = random.sample(all_user_ids, min(N, len(all_user_ids)))\n",
    "\n",
    "recs = {}\n",
    "for uid_raw in tqdm(sample_users, desc=f\"Top‑{K} recs\"):\n",
    "    seen_items = set(ratings[ratings.userId == int(uid_raw)].movieId)\n",
    "    uid_inner  = trainset.to_inner_uid(uid_raw)\n",
    "\n",
    "    # Predict for *all* items, gather but skip seen\n",
    "    scores = {}\n",
    "    for inner_iid in trainset_item_outer.keys():\n",
    "        raw_iid = trainset_item_outer[inner_iid]\n",
    "        if raw_iid in seen_items:\n",
    "            continue\n",
    "        est = knn_algo.predict(uid_raw, str(raw_iid)).est\n",
    "        scores[raw_iid] = est\n",
    "\n",
    "    if scores:\n",
    "        top_items = sorted(scores, key=scores.get, reverse=True)[:K]\n",
    "        recs[int(uid_raw)] = top_items\n",
    "\n",
    "Path(\"predictions\").mkdir(exist_ok=True)\n",
    "with open(\"predictions/knn_top10_subset.json\", \"w\") as fp:\n",
    "    json.dump(recs, fp)\n",
    "\n",
    "print(f\"✅  Saved {len(recs)} users → predictions/knn_top10_subset.json\")"
   ]
  }
 ],
 "metadata": {
  "kernelspec": {
   "display_name": "3.10.0",
   "language": "python",
   "name": "python3"
  },
  "language_info": {
   "codemirror_mode": {
    "name": "ipython",
    "version": 3
   },
   "file_extension": ".py",
   "mimetype": "text/x-python",
   "name": "python",
   "nbconvert_exporter": "python",
   "pygments_lexer": "ipython3",
   "version": "3.10.0"
  }
 },
 "nbformat": 4,
 "nbformat_minor": 5
}
