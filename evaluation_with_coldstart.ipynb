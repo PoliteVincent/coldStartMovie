{
 "cells": [
  {
   "cell_type": "code",
   "execution_count": 1,
   "id": "3142d83e",
   "metadata": {},
   "outputs": [],
   "source": [
    "import pandas as pd\n",
    "import json\n",
    "from sklearn.metrics import ndcg_score\n",
    "from collections import defaultdict\n",
    "\n",
    "# Load your original test set\n",
    "test_df = pd.read_csv('./subset_ratings.csv')  # or the same one used in both notebooks\n",
    "test_df = test_df[test_df.movieId.notna()]\n",
    "\n",
    "# Load prediction JSONs\n",
    "with open(\"predictions/cbf_top10_subset.json\") as f:\n",
    "    preds_cbf = json.load(f)\n",
    "\n",
    "with open(\"predictions/hybrid_top10_subset.json\") as f:\n",
    "    preds_hybrid = json.load(f)\n"
   ]
  },
  {
   "cell_type": "code",
   "execution_count": 2,
   "id": "a870837b",
   "metadata": {},
   "outputs": [],
   "source": [
    "def precision_recall_at_k(pred_dict, test_df, K=10):\n",
    "    hit_count, rec_count, rel_count = 0, 0, 0\n",
    "\n",
    "    for u, grp in test_df.groupby('userId'):\n",
    "        u = str(u)  # keys in JSON are string-typed\n",
    "        if u not in pred_dict:\n",
    "            continue\n",
    "\n",
    "        true_items = set(grp.movieId)\n",
    "        pred_items = pred_dict[u][:K]\n",
    "\n",
    "        hits = len(true_items.intersection(pred_items))\n",
    "        hit_count += hits\n",
    "        rec_count += K\n",
    "        rel_count += len(true_items)\n",
    "\n",
    "    precision = hit_count / rec_count if rec_count else 0\n",
    "    recall = hit_count / rel_count if rel_count else 0\n",
    "    return precision, recall\n"
   ]
  },
  {
   "cell_type": "code",
   "execution_count": 3,
   "id": "3744e0d9",
   "metadata": {},
   "outputs": [],
   "source": [
    "def ndcg_at_k(pred_dict, test_df, K=10):\n",
    "    scores, truths = [], []\n",
    "    for u, grp in test_df.groupby('userId'):\n",
    "        u = str(u)\n",
    "        if u not in pred_dict:\n",
    "            continue\n",
    "        true_items = set(grp.movieId)\n",
    "        pred_items = pred_dict[u][:K]\n",
    "        rel = [1 if m in true_items else 0 for m in pred_items]\n",
    "        scores.append(rel)\n",
    "        truths.append(sorted(rel, reverse=True))\n",
    "    return ndcg_score(truths, scores)\n"
   ]
  },
  {
   "cell_type": "code",
   "execution_count": 4,
   "id": "cc318d6b",
   "metadata": {},
   "outputs": [
    {
     "name": "stdout",
     "output_type": "stream",
     "text": [
      "Model      | Precision@10 | Recall@10 | NDCG@10\n",
      "---------------------------------------------\n",
      "CBF        | 0.0305       | 0.0015   | 0.1195\n",
      "Hybrid     | 0.1965       | 0.0096   | 0.4390\n"
     ]
    }
   ],
   "source": [
    "K = 10\n",
    "\n",
    "# Precision and Recall\n",
    "prec_cbf, rec_cbf = precision_recall_at_k(preds_cbf, test_df, K)\n",
    "prec_hyb, rec_hyb = precision_recall_at_k(preds_hybrid, test_df, K)\n",
    "\n",
    "# NDCG\n",
    "ndcg_cbf = ndcg_at_k(preds_cbf, test_df, K)\n",
    "ndcg_hyb = ndcg_at_k(preds_hybrid, test_df, K)\n",
    "\n",
    "# Print comparison\n",
    "print(f\"{'Model':<10} | Precision@{K} | Recall@{K} | NDCG@{K}\")\n",
    "print(\"-\" * 45)\n",
    "print(f\"{'CBF':<10} | {prec_cbf:.4f}       | {rec_cbf:.4f}   | {ndcg_cbf:.4f}\")\n",
    "print(f\"{'Hybrid':<10} | {prec_hyb:.4f}       | {rec_hyb:.4f}   | {ndcg_hyb:.4f}\")\n"
   ]
  },
  {
   "cell_type": "code",
   "execution_count": 5,
   "id": "8d4f01a8",
   "metadata": {},
   "outputs": [
    {
     "name": "stdout",
     "output_type": "stream",
     "text": [
      "Cold-start user count: 500\n",
      "Training ratings: 1974034, Test ratings: 104591\n"
     ]
    }
   ],
   "source": [
    "# Simulate Cold Start Users\n",
    "import random\n",
    "\n",
    "# Simulate 5% of users as cold-start (keep only 2 ratings in training)\n",
    "cold_users = set(random.sample(list(test_df['userId'].unique()), k=int(0.05 * test_df['userId'].nunique())))\n",
    "train_rows, test_rows = [], []\n",
    "\n",
    "for user, group in test_df.groupby('userId'):\n",
    "    if user in cold_users:\n",
    "        sample = group.sample(n=min(2, len(group)), random_state=42)\n",
    "        train_rows.append(sample)\n",
    "        test_rows.append(group.drop(sample.index))\n",
    "    else:\n",
    "        train_rows.append(group)\n",
    "\n",
    "train_df_cold_users = pd.concat(train_rows)\n",
    "test_df_cold_users = pd.concat(test_rows)\n",
    "\n",
    "print(f\"Cold-start user count: {len(cold_users)}\")\n",
    "print(f\"Training ratings: {len(train_df_cold_users)}, Test ratings: {len(test_df_cold_users)}\")"
   ]
  },
  {
   "cell_type": "code",
   "execution_count": 7,
   "id": "c7d79a1d",
   "metadata": {},
   "outputs": [
    {
     "name": "stdout",
     "output_type": "stream",
     "text": [
      "Cold Start Evaluation for Users with Few Ratings\n",
      "Model      | Precision@10 | Recall@10 | NDCG@10\n",
      "---------------------------------------------\n",
      "CBF        | 0.0370       | 0.0019   | 0.1103\n",
      "Hybrid     | 0.2255       | 0.0098   | 0.4411\n"
     ]
    }
   ],
   "source": [
    "# Evaluate Precision, Recall, NDCG for Cold-Start Users\n",
    "prec_cbf_cold, rec_cbf_cold = precision_recall_at_k(preds_cbf, test_df_cold_users, K=10)\n",
    "ndcg_cbf_cold = ndcg_at_k(preds_cbf, test_df_cold_users, K=10)\n",
    "\n",
    "prec_hyb_cold, rec_hyb_cold = precision_recall_at_k(preds_hybrid, test_df_cold_users, K=10)\n",
    "ndcg_hyb_cold = ndcg_at_k(preds_hybrid, test_df_cold_users, K=10)\n",
    "\n",
    "# Display Results\n",
    "print(\"Cold Start Evaluation for Users with Few Ratings\")\n",
    "print(f\"{'Model':<10} | Precision@10 | Recall@10 | NDCG@10\")\n",
    "print(\"-\" * 45)\n",
    "print(f\"{'CBF':<10} | {prec_cbf_cold:.4f}       | {rec_cbf_cold:.4f}   | {ndcg_cbf_cold:.4f}\")\n",
    "print(f\"{'Hybrid':<10} | {prec_hyb_cold:.4f}       | {rec_hyb_cold:.4f}   | {ndcg_hyb_cold:.4f}\")"
   ]
  },
  {
   "cell_type": "code",
   "execution_count": 8,
   "id": "652a305b",
   "metadata": {},
   "outputs": [
    {
     "data": {
      "image/png": "[encoded data removed]",
      "text/plain": [
       "<Figure size 800x500 with 1 Axes>"
      ]
     },
     "metadata": {},
     "output_type": "display_data"
    }
   ],
   "source": [
    "# Visualization: Cold Start Evaluation\n",
    "import matplotlib.pyplot as plt\n",
    "\n",
    "# Data from evaluation (make sure these are already computed in previous cell)\n",
    "metrics = ['Precision@10', 'Recall@10', 'NDCG@10']\n",
    "cbf_scores = [prec_cbf_cold, rec_cbf_cold, ndcg_cbf_cold]\n",
    "hyb_scores = [prec_hyb_cold, rec_hyb_cold, ndcg_hyb_cold]\n",
    "\n",
    "x = range(len(metrics))\n",
    "plt.figure(figsize=(8, 5))\n",
    "plt.bar(x, cbf_scores, width=0.35, label='CBF')\n",
    "plt.bar([i + 0.35 for i in x], hyb_scores, width=0.35, label='Hybrid')\n",
    "plt.xticks([i + 0.175 for i in x], metrics)\n",
    "plt.ylim(0, 1)\n",
    "plt.ylabel('Score')\n",
    "plt.title('Cold Start Evaluation Metrics (Users with Few Ratings)')\n",
    "plt.legend()\n",
    "plt.grid(axis='y', linestyle='--', alpha=0.7)\n",
    "plt.tight_layout()\n",
    "plt.show()"
   ]
  },
  {
   "cell_type": "code",
   "execution_count": null,
   "id": "1046c08d",
   "metadata": {},
   "outputs": [],
   "source": []
  }
 ],
 "metadata": {
  "kernelspec": {
   "display_name": "Python 3",
   "language": "python",
   "name": "python3"
  },
  "language_info": {
   "codemirror_mode": {
    "name": "ipython",
    "version": 3
   },
   "file_extension": ".py",
   "mimetype": "text/x-python",
   "name": "python",
   "nbconvert_exporter": "python",
   "pygments_lexer": "ipython3",
   "version": "3.9.6"
  }
 },
 "nbformat": 4,
 "nbformat_minor": 5
}
