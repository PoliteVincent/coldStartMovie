{
 "cells": [
  {
   "cell_type": "code",
   "execution_count": 2,
   "id": "8e209e32",
   "metadata": {},
   "outputs": [],
   "source": [
    "import pandas as pd\n",
    "import numpy as np\n",
    "\n",
    "# Load the subset ratings (already shrunk MovieLens data)\n",
    "ratings = pd.read_csv('../subset_ratings.csv')\n",
    "\n"
   ]
  },
  {
   "cell_type": "code",
   "execution_count": 3,
   "id": "008a59f2",
   "metadata": {},
   "outputs": [],
   "source": [
    "# 1) Split original train/test by user (80% train, 20% test per user)\n",
    "from sklearn.model_selection import train_test_split\n",
    "\n",
    "def split_per_user(df, test_frac=0.2, seed=42):\n",
    "    train_list, test_list = [], []\n",
    "    for _, user_df in df.groupby('userId'):\n",
    "        if len(user_df) < 2:\n",
    "            train_list.append(user_df)\n",
    "        else:\n",
    "            tr, te = train_test_split(user_df, test_size=test_frac, random_state=seed)\n",
    "            train_list.append(tr)\n",
    "            test_list.append(te)\n",
    "    train = pd.concat(train_list).reset_index(drop=True)\n",
    "    test  = pd.concat(test_list).reset_index(drop=True) if test_list else pd.DataFrame(columns=df.columns)\n",
    "    return train, test\n",
    "\n",
    "train_df, test_df = split_per_user(ratings)\n",
    "\n"
   ]
  },
  {
   "cell_type": "code",
   "execution_count": 4,
   "id": "fbef1327",
   "metadata": {},
   "outputs": [],
   "source": [
    "# --- USER COLD-START SIMULATION ---\n",
    "\n",
    "# Parameters\n",
    "cold_user_frac = 0.05  # 5% of users\n",
    "cold_user_K    = 2     # keep only 2 ratings\n",
    "\n",
    "all_users = train_df['userId'].unique()\n",
    "n_cold = int(len(all_users) * cold_user_frac)\n",
    "cold_users = np.random.choice(all_users, size=n_cold, replace=False)\n",
    "\n",
    "user_train_rows, user_test_rows = [], []\n",
    "\n",
    "for uid, grp in train_df.groupby('userId'):\n",
    "    if uid in cold_users:\n",
    "        # Sample K ratings for training\n",
    "        sampled = grp.sample(n=min(cold_user_K, len(grp)), random_state=42)\n",
    "        user_train_rows.append(sampled)\n",
    "        # All others go to cold-start test\n",
    "        user_test_rows.append(grp.drop(sampled.index))\n",
    "    else:\n",
    "        user_train_rows.append(grp)\n",
    "\n",
    "# Build final user-structured sets\n",
    "user_cold_train = pd.concat(user_train_rows).reset_index(drop=True)\n",
    "user_cold_test  = pd.concat(user_test_rows).reset_index(drop=True)\n",
    "\n",
    "\n"
   ]
  },
  {
   "cell_type": "code",
   "execution_count": 5,
   "id": "b1f4c3d1",
   "metadata": {},
   "outputs": [],
   "source": [
    "# --- ITEM COLD-START SIMULATION ---\n",
    "\n",
    "# Parameters\n",
    "cold_item_frac = 0.05  # 5% of movies\n",
    "\n",
    "all_items = train_df['movieId'].unique()\n",
    "n_items = int(len(all_items) * cold_item_frac)\n",
    "cold_items = np.random.choice(all_items, size=n_items, replace=False)\n",
    "\n",
    "# Remove cold-start items from training\n",
    "item_cold_train = train_df[~train_df['movieId'].isin(cold_items)].reset_index(drop=True)\n",
    "\n",
    "# Keep only cold-start items in test\n",
    "item_cold_test = test_df[test_df['movieId'].isin(cold_items)].reset_index(drop=True)\n",
    "\n"
   ]
  },
  {
   "cell_type": "code",
   "execution_count": 6,
   "id": "6aafcd62",
   "metadata": {},
   "outputs": [
    {
     "name": "stdout",
     "output_type": "stream",
     "text": [
      "=== USER COLD-START ===\n",
      "Cold users count: 500\n",
      "User Cold-Train shape: (1569707, 4)\n",
      "User Cold-Test shape : (89213, 4)\n",
      "\n",
      "=== ITEM COLD-START ===\n",
      "Cold items count: 352\n",
      "Item Cold-Train shape: (1560622, 4)\n",
      "Item Cold-Test shape : (24799, 4)\n"
     ]
    }
   ],
   "source": [
    "# Display splits\n",
    "print(\"=== USER COLD-START ===\")\n",
    "print(f\"Cold users count: {len(cold_users)}\")\n",
    "print(f\"User Cold-Train shape: {user_cold_train.shape}\")\n",
    "print(f\"User Cold-Test shape : {user_cold_test.shape}\")\n",
    "\n",
    "print(\"\\n=== ITEM COLD-START ===\")\n",
    "print(f\"Cold items count: {len(cold_items)}\")\n",
    "print(f\"Item Cold-Train shape: {item_cold_train.shape}\")\n",
    "print(f\"Item Cold-Test shape : {item_cold_test.shape}\")\n",
    "\n"
   ]
  },
  {
   "cell_type": "code",
   "execution_count": 7,
   "id": "67decf4b",
   "metadata": {},
   "outputs": [],
   "source": [
    "# Save to CSV for later evaluation\n",
    "user_cold_train.to_csv('user_cold_train.csv', index=False)\n",
    "user_cold_test.to_csv('user_cold_test.csv', index=False)\n",
    "item_cold_train.to_csv('item_cold_train.csv', index=False)\n",
    "item_cold_test.to_csv('item_cold_test.csv', index=False)"
   ]
  },
  {
   "cell_type": "code",
   "execution_count": null,
   "id": "728ec91d",
   "metadata": {},
   "outputs": [],
   "source": []
  }
 ],
 "metadata": {
  "kernelspec": {
   "display_name": "Python 3",
   "language": "python",
   "name": "python3"
  },
  "language_info": {
   "codemirror_mode": {
    "name": "ipython",
    "version": 3
   },
   "file_extension": ".py",
   "mimetype": "text/x-python",
   "name": "python",
   "nbconvert_exporter": "python",
   "pygments_lexer": "ipython3",
   "version": "3.11.1"
  }
 },
 "nbformat": 4,
 "nbformat_minor": 5
}
